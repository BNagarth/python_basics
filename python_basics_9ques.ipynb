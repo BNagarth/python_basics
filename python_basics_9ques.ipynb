{
 "cells": [
  {
   "cell_type": "code",
   "execution_count": 51,
   "id": "0d20cad6",
   "metadata": {},
   "outputs": [],
   "source": [
    "#Question 1\n",
    "def greater_than(number):\n",
    "    if number>5:\n",
    "        print (\"Number is greater than 5\")\n",
    "    else:\n",
    "        print(\"Number is smaller than 5\")"
   ]
  },
  {
   "cell_type": "code",
   "execution_count": 49,
   "id": "c9184db0",
   "metadata": {},
   "outputs": [
    {
     "name": "stdout",
     "output_type": "stream",
     "text": [
      "Number is smaller than 5\n",
      "Number is greater than 5\n"
     ]
    }
   ],
   "source": [
    "greater_than(1)\n",
    "greater_than(10)"
   ]
  },
  {
   "cell_type": "code",
   "execution_count": 52,
   "id": "c1aece16",
   "metadata": {},
   "outputs": [],
   "source": [
    "#Question 2\n",
    "def empty_string(string):\n",
    "    if not string:\n",
    "        print(\"String is empty\")\n",
    "    else:\n",
    "        print(\"String is not empty\")"
   ]
  },
  {
   "cell_type": "code",
   "execution_count": 19,
   "id": "c105a22c",
   "metadata": {},
   "outputs": [
    {
     "name": "stdout",
     "output_type": "stream",
     "text": [
      "String is not empty\n"
     ]
    }
   ],
   "source": [
    "empty_string(\"    \")"
   ]
  },
  {
   "cell_type": "code",
   "execution_count": 53,
   "id": "3f7dae60",
   "metadata": {},
   "outputs": [],
   "source": [
    "#Question 3\n",
    "def even_odd(number):\n",
    "    if number%2==0:\n",
    "        print(\"Number is even\")\n",
    "    else:\n",
    "        print(\"Number is odd\")"
   ]
  },
  {
   "cell_type": "code",
   "execution_count": 26,
   "id": "de83a626",
   "metadata": {},
   "outputs": [
    {
     "name": "stdout",
     "output_type": "stream",
     "text": [
      "Number is even\n"
     ]
    }
   ],
   "source": [
    "even_odd(20)"
   ]
  },
  {
   "cell_type": "code",
   "execution_count": 72,
   "id": "fa3749ab",
   "metadata": {},
   "outputs": [],
   "source": [
    "#Question 4\n",
    "def for_loop():\n",
    "    for x in range (1,11):\n",
    "        print(x)"
   ]
  },
  {
   "cell_type": "code",
   "execution_count": 73,
   "id": "2f3b57ab",
   "metadata": {},
   "outputs": [
    {
     "name": "stdout",
     "output_type": "stream",
     "text": [
      "1\n",
      "2\n",
      "3\n",
      "4\n",
      "5\n",
      "6\n",
      "7\n",
      "8\n",
      "9\n",
      "10\n"
     ]
    }
   ],
   "source": [
    "for_loop()"
   ]
  },
  {
   "cell_type": "code",
   "execution_count": 75,
   "id": "5e149f39",
   "metadata": {},
   "outputs": [],
   "source": [
    "#Question 5\n",
    "def even_for():\n",
    "    for i in range(1,11):\n",
    "        if i %2==0:\n",
    "            print(i)"
   ]
  },
  {
   "cell_type": "code",
   "execution_count": 76,
   "id": "6fa1e867",
   "metadata": {},
   "outputs": [
    {
     "name": "stdout",
     "output_type": "stream",
     "text": [
      "2\n",
      "4\n",
      "6\n",
      "8\n",
      "10\n"
     ]
    }
   ],
   "source": [
    "even_for()"
   ]
  },
  {
   "cell_type": "code",
   "execution_count": 83,
   "id": "a338773c",
   "metadata": {},
   "outputs": [],
   "source": [
    "#Question 6\n",
    "def odd_for():\n",
    "    for i in range(1,11):\n",
    "        if i%2!=0:\n",
    "            print(i)"
   ]
  },
  {
   "cell_type": "code",
   "execution_count": 84,
   "id": "878bcdbc",
   "metadata": {},
   "outputs": [
    {
     "name": "stdout",
     "output_type": "stream",
     "text": [
      "1\n",
      "3\n",
      "5\n",
      "7\n",
      "9\n"
     ]
    }
   ],
   "source": [
    "odd_for()"
   ]
  },
  {
   "cell_type": "code",
   "execution_count": 85,
   "id": "5e30e16f",
   "metadata": {},
   "outputs": [],
   "source": [
    "#Question 7\n",
    "def sum_two(num1,num2):\n",
    "    sum=num1+num2\n",
    "    return sum"
   ]
  },
  {
   "cell_type": "code",
   "execution_count": 91,
   "id": "2fb28dd5",
   "metadata": {},
   "outputs": [
    {
     "data": {
      "text/plain": [
       "100"
      ]
     },
     "execution_count": 91,
     "metadata": {},
     "output_type": "execute_result"
    }
   ],
   "source": [
    "sum_two(45,55)"
   ]
  },
  {
   "cell_type": "code",
   "execution_count": 93,
   "id": "b441fb70",
   "metadata": {},
   "outputs": [],
   "source": [
    "#Question 8\n",
    "def length(string):\n",
    "    x=len(string)\n",
    "    return x"
   ]
  },
  {
   "cell_type": "code",
   "execution_count": 94,
   "id": "0cb1fb3b",
   "metadata": {},
   "outputs": [
    {
     "data": {
      "text/plain": [
       "25"
      ]
     },
     "execution_count": 94,
     "metadata": {},
     "output_type": "execute_result"
    }
   ],
   "source": [
    "length(\"Hello I am Bhavya Nagrath\")"
   ]
  },
  {
   "cell_type": "code",
   "execution_count": 95,
   "id": "eb736384",
   "metadata": {},
   "outputs": [],
   "source": [
    "#Question 9\n",
    "def length(array):\n",
    "    x=len(array)\n",
    "    return x"
   ]
  },
  {
   "cell_type": "code",
   "execution_count": 99,
   "id": "bba79637",
   "metadata": {},
   "outputs": [
    {
     "data": {
      "text/plain": [
       "6"
      ]
     },
     "execution_count": 99,
     "metadata": {},
     "output_type": "execute_result"
    }
   ],
   "source": [
    "length((\"hello\",\"i\",\"am\",\"Bhavya\",\"Nagrath\",\"!\"))"
   ]
  }
 ],
 "metadata": {
  "kernelspec": {
   "display_name": "Python 3 (ipykernel)",
   "language": "python",
   "name": "python3"
  },
  "language_info": {
   "codemirror_mode": {
    "name": "ipython",
    "version": 3
   },
   "file_extension": ".py",
   "mimetype": "text/x-python",
   "name": "python",
   "nbconvert_exporter": "python",
   "pygments_lexer": "ipython3",
   "version": "3.9.17"
  }
 },
 "nbformat": 4,
 "nbformat_minor": 5
}
